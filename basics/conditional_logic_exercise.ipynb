{
 "cells": [
  {
   "cell_type": "code",
   "execution_count": 4,
   "id": "2d87cf66",
   "metadata": {},
   "outputs": [],
   "source": [
    "from typing import TypedDict, NotRequired\n",
    "from langgraph.graph import StateGraph, START, END"
   ]
  },
  {
   "cell_type": "code",
   "execution_count": 5,
   "id": "0a18fd39",
   "metadata": {},
   "outputs": [],
   "source": [
    "class AgentState(TypedDict):\n",
    "    number1: int\n",
    "    operation: str\n",
    "    number2: int\n",
    "    number3: int\n",
    "    operation2: str\n",
    "    number4: int\n",
    "    finalNumber: NotRequired[int]\n",
    "    finalNumber2: NotRequired[int]"
   ]
  },
  {
   "cell_type": "code",
   "execution_count": 6,
   "id": "75d860a4",
   "metadata": {},
   "outputs": [],
   "source": [
    "def router_node(state: AgentState) -> str:\n",
    "    if state['operation'] == \"+\":\n",
    "        return \"addition_operation\"\n",
    "    elif state['operation'] == \"-\":\n",
    "        return \"subtraction_operation\"\n",
    "    else:\n",
    "        raise ValueError(f'Invalid operation provided: {state[\"operation\"]}')\n",
    "    \n",
    "    \n",
    "def add_node(state: AgentState) -> AgentState:\n",
    "    return {\n",
    "        **state,\n",
    "        \"finalNumber\": state[\"number1\"] + state[\"number2\"]\n",
    "    }\n",
    "    \n",
    "def subtract_node(state: AgentState) -> AgentState:\n",
    "    return {\n",
    "        **state,\n",
    "        \"finalNumber\": state[\"number1\"] - state[\"number2\"]\n",
    "    }\n",
    "    \n",
    "\n"
   ]
  },
  {
   "cell_type": "code",
   "execution_count": 7,
   "id": "797bb161",
   "metadata": {},
   "outputs": [],
   "source": [
    "def router_node2(state: AgentState) -> str:\n",
    "    if state['operation2'] == \"+\":\n",
    "        return \"addition_operation2\"\n",
    "    elif state['operation2'] == \"-\":\n",
    "        return \"subtraction_operation2\"\n",
    "    else:\n",
    "        raise ValueError(f'Invalid operation2 provided: {state[\"operation2\"]}')\n",
    "    \n",
    "def add_node2(state: AgentState) -> AgentState:\n",
    "    return {\n",
    "        **state,\n",
    "        \"finalNumber2\": state[\"number3\"] + state[\"number4\"]\n",
    "    }\n",
    "    \n",
    "def subtract_node2(state: AgentState) -> AgentState:\n",
    "    return {\n",
    "        **state,\n",
    "        \"finalNumber2\": state[\"number3\"] - state[\"number4\"]\n",
    "    }"
   ]
  },
  {
   "cell_type": "code",
   "execution_count": 8,
   "id": "c1a4d1b2",
   "metadata": {},
   "outputs": [
    {
     "data": {
      "text/plain": [
       "<langgraph.graph.state.StateGraph at 0x7fb7acb63a10>"
      ]
     },
     "execution_count": 8,
     "metadata": {},
     "output_type": "execute_result"
    }
   ],
   "source": [
    "graph = StateGraph(AgentState)\n",
    "graph.add_node(\"router\", lambda state: state)\n",
    "graph.add_edge(START, \"router\")\n",
    "\n",
    "\n",
    "graph.add_node(\"add_node\", add_node)\n",
    "graph.add_node(\"subtract_node\", subtract_node)\n",
    "\n",
    "\n",
    "graph.add_conditional_edges(\n",
    "    \"router\",\n",
    "    router_node,\n",
    "    {\n",
    "        \"addition_operation\": \"add_node\",\n",
    "        \"subtraction_operation\": \"subtract_node\"\n",
    "    }\n",
    ")\n",
    "\n",
    "graph.add_node(\"router2\", lambda state: state)\n",
    "graph.add_edge(\"add_node\", \"router2\")\n",
    "graph.add_edge(\"subtract_node\", \"router2\")\n",
    "\n",
    "\n",
    "graph.add_node(\"add_node2\", add_node2)\n",
    "graph.add_node(\"subtract_node2\", subtract_node2)\n",
    "\n",
    "\n",
    "graph.add_conditional_edges(\n",
    "    \"router2\",\n",
    "    router_node2,\n",
    "    {\n",
    "        \"addition_operation2\": \"add_node2\",\n",
    "        \"subtract_node2\": \"subtract_node2\"\n",
    "    }\n",
    ")\n",
    "\n",
    "graph.add_edge(\"add_node2\", END)\n",
    "graph.add_edge(\"subtract_node2\", END)\n",
    "\n"
   ]
  },
  {
   "cell_type": "code",
   "execution_count": 9,
   "id": "ed24f717",
   "metadata": {},
   "outputs": [
    {
     "name": "stdout",
     "output_type": "stream",
     "text": [
      "{'number1': 10, 'operation': '-', 'number2': 5, 'number3': 7, 'operation2': '+', 'number4': 2, 'finalNumber': 5, 'finalNumber2': 9}\n"
     ]
    }
   ],
   "source": [
    "app = graph.compile()\n",
    "\n",
    "result = app.invoke({\n",
    "    \"number1\": 10,\n",
    "    \"operation\": \"-\",\n",
    "    \"number2\": 5,\n",
    "    \"number3\": 7,\n",
    "    \"number4\": 2,\n",
    "    \"operation2\": \"+\"\n",
    "})\n",
    "\n",
    "print(result)"
   ]
  }
 ],
 "metadata": {
  "kernelspec": {
   "display_name": ".venv",
   "language": "python",
   "name": "python3"
  },
  "language_info": {
   "codemirror_mode": {
    "name": "ipython",
    "version": 3
   },
   "file_extension": ".py",
   "mimetype": "text/x-python",
   "name": "python",
   "nbconvert_exporter": "python",
   "pygments_lexer": "ipython3",
   "version": "3.13.5"
  }
 },
 "nbformat": 4,
 "nbformat_minor": 5
}
