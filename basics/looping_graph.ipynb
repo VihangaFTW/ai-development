{
 "cells": [
  {
   "cell_type": "code",
   "execution_count": 69,
   "id": "5c74ab60",
   "metadata": {},
   "outputs": [],
   "source": [
    "import random\n",
    "from typing import Dict, List, TypedDict, NotRequired\n",
    "from langgraph.graph import StateGraph, START, END"
   ]
  },
  {
   "cell_type": "code",
   "execution_count": 70,
   "id": "52d3a51b",
   "metadata": {},
   "outputs": [],
   "source": [
    "class AgentState(TypedDict):  \n",
    "    name: str\n",
    "    numbers: NotRequired[List[int]]  \n",
    "    counter: NotRequired[int]"
   ]
  },
  {
   "cell_type": "code",
   "execution_count": 71,
   "id": "fdd6b5c2",
   "metadata": {},
   "outputs": [],
   "source": [
    "def greeting_node(state: AgentState) -> AgentState:\n",
    "    \"\"\" \n",
    "    Greeting Node which says hi to the person\n",
    "    \"\"\"\n",
    "    return {\n",
    "        **state,\n",
    "        \"name\": f'Hi there, {state[\"name\"]}',\n",
    "        \"counter\" : 0\n",
    "    }\n",
    "    \n",
    "    \n",
    "def random_node(state: AgentState) -> AgentState:\n",
    "    \"\"\" \n",
    "    Generates a random number from 0 to 10 \n",
    "    \"\"\"\n",
    "    return {\n",
    "        **state,\n",
    "        \"counter\" : state.get(\"counter\", 0) + 1,\n",
    "        \"numbers\" : state.get(\"numbers\", []) + [random.randint(0,10)] if state.get(\"counter\", 0) > 0 else []\n",
    "    }\n",
    "    \n",
    "\n",
    "def should_continue(state: AgentState) -> str:\n",
    "    \"\"\" \n",
    "    Function to decide what to do next\n",
    "    \"\"\"\n",
    "    \n",
    "    if state.get(\"counter\", 0) <= 5:\n",
    "        print(\"Entering Loop\", state.get(\"counter\", 0))\n",
    "        return \"loop\" \n",
    "    else:\n",
    "        return \"exit\""
   ]
  },
  {
   "cell_type": "code",
   "execution_count": null,
   "id": "84a400e5",
   "metadata": {},
   "outputs": [
    {
     "data": {
      "text/plain": [
       "<langgraph.graph.state.StateGraph at 0x7f331e88b250>"
      ]
     },
     "execution_count": 72,
     "metadata": {},
     "output_type": "execute_result"
    }
   ],
   "source": [
    "graph = StateGraph(AgentState)\n",
    "\n",
    "graph.add_node(\"greeter\", greeting_node)\n",
    "graph.add_node(\"random\", random_node)\n",
    "\n",
    "graph.add_edge(\"greeter\", \"random\")\n",
    "\n",
    "graph.add_edge(START, 'greeter')\n",
    "\n",
    "\n",
    "graph.add_conditional_edges(\n",
    "        \"random\",\n",
    "        should_continue,\n",
    "        {\n",
    "            \"loop\" : \"random\",\n",
    "            \"exit\" : END\n",
    "        }\n",
    ")\n",
    "\n",
    "\n",
    "graph.set_entry_point(\"greeter\")\n"
   ]
  },
  {
   "cell_type": "code",
   "execution_count": 73,
   "id": "de2fd918",
   "metadata": {},
   "outputs": [
    {
     "name": "stdout",
     "output_type": "stream",
     "text": [
      "Entering Loop 1\n",
      "Entering Loop 2\n",
      "Entering Loop 3\n",
      "Entering Loop 4\n",
      "Entering Loop 5\n",
      "{'name': 'Hi there, Vihanga', 'numbers': [6, 1, 3, 4, 7], 'counter': 6}\n"
     ]
    }
   ],
   "source": [
    "app =  graph.compile()\n",
    "result =  app.invoke({\n",
    "    \"name\" : \"Vihanga\"\n",
    "})\n",
    "\n",
    "print(result)"
   ]
  },
  {
   "cell_type": "code",
   "execution_count": 74,
   "id": "5d3fd0c5",
   "metadata": {},
   "outputs": [
    {
     "data": {
      "image/png": "[encoded data removed]",
      "text/plain": [
       "<IPython.core.display.Image object>"
      ]
     },
     "metadata": {},
     "output_type": "display_data"
    }
   ],
   "source": [
    "from IPython.display import Image, display\n",
    "display(Image(app.get_graph().draw_mermaid_png()))"
   ]
  }
 ],
 "metadata": {
  "kernelspec": {
   "display_name": ".venv",
   "language": "python",
   "name": "python3"
  },
  "language_info": {
   "codemirror_mode": {
    "name": "ipython",
    "version": 3
   },
   "file_extension": ".py",
   "mimetype": "text/x-python",
   "name": "python",
   "nbconvert_exporter": "python",
   "pygments_lexer": "ipython3",
   "version": "3.13.5"
  }
 },
 "nbformat": 4,
 "nbformat_minor": 5
}
