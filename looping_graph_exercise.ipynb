{
 "cells": [
  {
   "cell_type": "code",
   "execution_count": 3,
   "id": "410283fc",
   "metadata": {},
   "outputs": [],
   "source": [
    "from langgraph.graph import StateGraph, START, END\n",
    "from typing import TypedDict, List\n",
    "import random"
   ]
  },
  {
   "cell_type": "code",
   "execution_count": 4,
   "id": "d7d6cfa6",
   "metadata": {},
   "outputs": [],
   "source": [
    "class UserInput(TypedDict):\n",
    "    player_name: str\n",
    "    guesses: List[int]\n",
    "    attempts: int\n",
    "    lower_bound: int\n",
    "    upper_bound: int\n",
    "\n",
    "class AgentState(UserInput):\n",
    "    target: int"
   ]
  },
  {
   "cell_type": "code",
   "execution_count": 5,
   "id": "10965083",
   "metadata": {},
   "outputs": [],
   "source": [
    "def setup_game(state: AgentState) -> AgentState:\n",
    "    \"\"\"Setup the number guessing game with a random target\"\"\"\n",
    "    target = random.randint(1, 20)\n",
    "    print(f\"🎮 Game started for {state['player_name']}! Guess a number between 1 and 20.\")\n",
    "    return {\n",
    "        **state,\n",
    "        \"target\": target\n",
    "    }\n"
   ]
  },
  {
   "cell_type": "code",
   "execution_count": 6,
   "id": "a9b1d5eb",
   "metadata": {},
   "outputs": [],
   "source": [
    "def make_guess(state: AgentState) -> AgentState:\n",
    "    \"\"\"Make a smart guess within the current bounds\"\"\"\n",
    "    lower = state[\"lower_bound\"]\n",
    "    upper = state[\"upper_bound\"]\n",
    "    \n",
    "    # Make a smart guess (middle of the range)\n",
    "    guess = (lower + upper) // 2\n",
    "    \n",
    "    print(f\"🤔 Guessing: {guess} (range: {lower}-{upper})\")\n",
    "    \n",
    "    return {\n",
    "        **state,\n",
    "        \"attempts\": state[\"attempts\"] + 1,\n",
    "        \"guesses\": state[\"guesses\"] + [guess]\n",
    "    }\n"
   ]
  },
  {
   "cell_type": "code",
   "execution_count": 7,
   "id": "2eac90f9",
   "metadata": {},
   "outputs": [],
   "source": [
    "def provide_hint(state: AgentState) -> AgentState:\n",
    "    \"\"\"Provide hint after a guess and update bounds accordingly\"\"\"\n",
    "    last_guess = state[\"guesses\"][-1]\n",
    "    target = state[\"target\"]\n",
    "    \n",
    "    if last_guess < target:\n",
    "        print(f\"📈 Too low! Try higher than {last_guess}\")\n",
    "        return {\n",
    "            **state,\n",
    "            \"lower_bound\": last_guess + 1\n",
    "        }\n",
    "    elif last_guess > target:\n",
    "        print(f\"📉 Too high! Try lower than {last_guess}\")\n",
    "        return {\n",
    "            **state,\n",
    "            \"upper_bound\": last_guess - 1\n",
    "        }\n",
    "    else:\n",
    "        print(f\"🎉 Correct! The number was {target}\")\n",
    "        return state\n"
   ]
  },
  {
   "cell_type": "code",
   "execution_count": 8,
   "id": "09352c50",
   "metadata": {},
   "outputs": [],
   "source": [
    "def should_continue(state: AgentState) -> str:\n",
    "    \"\"\"Decide whether to continue guessing or end the game\"\"\"\n",
    "    if not state[\"guesses\"]:\n",
    "        return \"continue\"\n",
    "    \n",
    "    last_guess = state[\"guesses\"][-1]\n",
    "    target = state[\"target\"]\n",
    "    max_attempts = 7\n",
    "    \n",
    "    # Win condition\n",
    "    if last_guess == target:\n",
    "        print(f\"🏆 {state['player_name']} won in {state['attempts']} attempts!\")\n",
    "        return \"end\"\n",
    "    \n",
    "    # Max attempts reached\n",
    "    if state[\"attempts\"] >= max_attempts:\n",
    "        print(f\"💀 Game over! The number was {target}. Better luck next time!\")\n",
    "        return \"end\"\n",
    "    \n",
    "    # Continue guessing\n",
    "    return \"continue\"\n"
   ]
  },
  {
   "cell_type": "code",
   "execution_count": 9,
   "id": "a9748771",
   "metadata": {},
   "outputs": [],
   "source": [
    "# Build the graph  \n",
    "graph = StateGraph(AgentState)\n",
    "\n",
    "# Add nodes\n",
    "graph.add_node(\"setup\", setup_game)\n",
    "graph.add_node(\"guess\", make_guess)\n",
    "graph.add_node(\"hint\", provide_hint)\n",
    "\n",
    "# Add edges\n",
    "graph.add_edge(START, \"setup\")\n",
    "graph.add_edge(\"setup\", \"guess\")\n",
    "graph.add_edge(\"guess\", \"hint\")\n",
    "\n",
    "# Add conditional edge\n",
    "graph.add_conditional_edges(\n",
    "    \"hint\",\n",
    "    should_continue,\n",
    "    {\n",
    "        \"continue\": \"guess\",\n",
    "        \"end\": END\n",
    "    }\n",
    ")\n",
    "\n",
    "# Compile the graph\n",
    "app = graph.compile()\n"
   ]
  },
  {
   "cell_type": "code",
   "execution_count": 10,
   "id": "81bfbdcf",
   "metadata": {},
   "outputs": [
    {
     "name": "stdout",
     "output_type": "stream",
     "text": [
      "🎮 Game started for Student! Guess a number between 1 and 20.\n",
      "🤔 Guessing: 10 (range: 1-20)\n",
      "📈 Too low! Try higher than 10\n",
      "🤔 Guessing: 15 (range: 11-20)\n",
      "📉 Too high! Try lower than 15\n",
      "🤔 Guessing: 12 (range: 11-14)\n",
      "📉 Too high! Try lower than 12\n",
      "🤔 Guessing: 11 (range: 11-11)\n",
      "🎉 Correct! The number was 11\n",
      "🏆 Student won in 4 attempts!\n",
      "\n",
      "🎯 Final result: {'player_name': 'Student', 'guesses': [10, 15, 12, 11], 'attempts': 4, 'lower_bound': 11, 'upper_bound': 11, 'target': 11}\n"
     ]
    }
   ],
   "source": [
    "# Test the game with the exact input format from the exercise\n",
    "user_input: UserInput = {\n",
    "    \"player_name\": \"Student\", \n",
    "    \"guesses\": [],\n",
    "    \"attempts\": 0,\n",
    "    \"lower_bound\": 1,\n",
    "    \"upper_bound\": 20\n",
    "}\n",
    "\n",
    "# Run the game - cast to AgentState since setup node will add the target field\n",
    "from typing import cast\n",
    "result = app.invoke(cast(AgentState, user_input))\n",
    "print(f\"\\n🎯 Final result: {result}\")\n"
   ]
  }
 ],
 "metadata": {
  "kernelspec": {
   "display_name": ".venv",
   "language": "python",
   "name": "python3"
  },
  "language_info": {
   "codemirror_mode": {
    "name": "ipython",
    "version": 3
   },
   "file_extension": ".py",
   "mimetype": "text/x-python",
   "name": "python",
   "nbconvert_exporter": "python",
   "pygments_lexer": "ipython3",
   "version": "3.13.5"
  }
 },
 "nbformat": 4,
 "nbformat_minor": 5
}
