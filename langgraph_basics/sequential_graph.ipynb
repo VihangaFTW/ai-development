{
 "cells": [
  {
   "cell_type": "code",
   "execution_count": 10,
   "id": "b2aadf5b",
   "metadata": {},
   "outputs": [],
   "source": [
    "from typing import TypedDict, Optional, List, NotRequired\n",
    "from langgraph.graph import StateGraph"
   ]
  },
  {
   "cell_type": "code",
   "execution_count": 7,
   "id": "dde17826",
   "metadata": {},
   "outputs": [],
   "source": [
    "class AgentState(TypedDict):\n",
    "    name: str\n",
    "    age: str\n",
    "    skills: List[str]\n",
    "    final: NotRequired[str]  # Not required as input, computed by nodes\n",
    "    \n",
    "def first_node(state: AgentState) -> AgentState:\n",
    "    \"\"\" \n",
    "    This is the first node of our sequence\n",
    "    \"\"\"\n",
    "    return {\n",
    "        ** state,\n",
    "        \"final\": f'{state[\"name\"]}!, welcome to the system!'\n",
    "    }\n",
    "    \n",
    "def second_node(state: AgentState) -> AgentState:\n",
    "    \"\"\"\n",
    "    This is the second node of our sequence\n",
    "    \"\"\"\n",
    "    \n",
    "    return {\n",
    "        **state,\n",
    "        \"final\": state.get(\"final\", \"\") + f' You are {state[\"age\"]} years old!'\n",
    "    }\n",
    "    \n",
    "def third_node(state: AgentState) -> AgentState:\n",
    "    \"\"\"\n",
    "    This is the third node of our sequence\n",
    "    \"\"\"\n",
    "    \n",
    "    return {\n",
    "        **state,\n",
    "        \"final\": state.get(\"final\", \"\") + f' You have skills in: {\", \".join(state[\"skills\"])}'\n",
    "    }"
   ]
  },
  {
   "cell_type": "code",
   "execution_count": 8,
   "id": "f9c7e867",
   "metadata": {},
   "outputs": [],
   "source": [
    "graph = StateGraph(AgentState)\n",
    "\n",
    "graph.add_node(\"first_node\", first_node)\n",
    "graph.add_node('second_node', second_node)\n",
    "graph.add_node('third_node', third_node)\n",
    "\n",
    "\n",
    "graph.set_entry_point(\"first_node\")\n",
    "graph.add_edge(\"first_node\", \"second_node\")\n",
    "graph.add_edge(\"second_node\", \"third_node\")\n",
    "\n",
    "graph.set_finish_point(\"third_node\")\n",
    "\n",
    "app = graph.compile()\n"
   ]
  },
  {
   "cell_type": "code",
   "execution_count": 9,
   "id": "5440ec69",
   "metadata": {},
   "outputs": [
    {
     "name": "stdout",
     "output_type": "stream",
     "text": [
      "Linda!, welcome to the system! You are 31 years old! You have skills in: Python, Machine Learning, and LangGraph\n"
     ]
    }
   ],
   "source": [
    "result =  app.invoke({\"name\": \"Linda\", \"age\": \"31\", \"skills\": [\"Python, Machine Learning, and LangGraph\"]})\n",
    "print(result[\"final\"])"
   ]
  }
 ],
 "metadata": {
  "kernelspec": {
   "display_name": ".venv",
   "language": "python",
   "name": "python3"
  },
  "language_info": {
   "codemirror_mode": {
    "name": "ipython",
    "version": 3
   },
   "file_extension": ".py",
   "mimetype": "text/x-python",
   "name": "python",
   "nbconvert_exporter": "python",
   "pygments_lexer": "ipython3",
   "version": "3.13.5"
  }
 },
 "nbformat": 4,
 "nbformat_minor": 5
}
