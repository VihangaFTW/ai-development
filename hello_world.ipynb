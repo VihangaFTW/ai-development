{
 "cells": [
  {
   "cell_type": "markdown",
   "id": "e00872cf",
   "metadata": {},
   "source": [
    "# Hello World Agent\n"
   ]
  },
  {
   "cell_type": "code",
   "execution_count": 18,
   "id": "e553b309",
   "metadata": {},
   "outputs": [],
   "source": [
    "# Import necessary types and classes for building the LangGraph agent\n",
    "from typing import Dict, TypedDict  # For type hints and structured data\n",
    "from langgraph.graph import StateGraph  # Main class for creating state-based graphs"
   ]
  },
  {
   "cell_type": "code",
   "execution_count": 19,
   "id": "221849b7",
   "metadata": {},
   "outputs": [],
   "source": [
    "# Define the state schema - this represents the data structure that flows through the graph\n",
    "class AgentState(TypedDict):\n",
    "    message: str  # The main message field that will be processed by our nodes\n"
   ]
  },
  {
   "cell_type": "code",
   "execution_count": 20,
   "id": "f05ade38",
   "metadata": {},
   "outputs": [],
   "source": [
    "def greeting_node(state: AgentState) -> AgentState:\n",
    "    \"\"\" \n",
    "    Node function that processes the input message and creates a greeting.\n",
    "    \n",
    "    Args:\n",
    "        state: The current state containing the message to process\n",
    "        \n",
    "    Returns:\n",
    "        AgentState: Updated state with the greeting message\n",
    "    \"\"\" \n",
    "    # Take the input message and wrap it in a friendly greeting\n",
    "    # This demonstrates how nodes can transform the state\n",
    "    return {\n",
    "        \"message\": \"Hey \" + state['message'] + \", how is your day going?\"\n",
    "    }\n",
    "    \n",
    "    \n",
    "def complimenter_node(state: AgentState) -> AgentState:\n",
    "    return {\n",
    "        \"message\": state[\"message\"] + \", you are doing an amazing job today!\"\n",
    "    }"
   ]
  },
  {
   "cell_type": "code",
   "execution_count": 21,
   "id": "80a99e32",
   "metadata": {},
   "outputs": [],
   "source": [
    "# Create a new state graph using our AgentState schema\n",
    "graph = StateGraph(AgentState)\n",
    "\n",
    "# Add our greeting node to the graph with the name \"greeter\"\n",
    "graph.add_node(\"complimenter\", complimenter_node)\n",
    "\n",
    "# Set the entry point - where the graph execution begins\n",
    "graph.set_entry_point(\"complimenter\")\n",
    "\n",
    "# Set the finish point - where the graph execution ends\n",
    "# In this simple example, both entry and finish point are the same node\n",
    "graph.set_finish_point(\"complimenter\")\n",
    "\n",
    "# Compile the graph into an executable application\n",
    "# This creates an optimized version that can be invoked with input data\n",
    "app = graph.compile()\n"
   ]
  },
  {
   "cell_type": "code",
   "execution_count": 22,
   "id": "bfa1417c",
   "metadata": {},
   "outputs": [
    {
     "data": {
      "text/plain": [
       "'Bob, you are doing an amazing job today!'"
      ]
     },
     "execution_count": 22,
     "metadata": {},
     "output_type": "execute_result"
    }
   ],
   "source": [
    "# Test the compiled graph by invoking it with sample input\n",
    "# The input must match the AgentState schema structure\n",
    "result = app.invoke({\"message\": \"Bob\"})\n",
    "\n",
    "# Extract and display the processed message from the result\n",
    "# The result will be the final state after all nodes have executed\n",
    "result[\"message\"]"
   ]
  }
 ],
 "metadata": {
  "kernelspec": {
   "display_name": ".venv",
   "language": "python",
   "name": "python3"
  },
  "language_info": {
   "codemirror_mode": {
    "name": "ipython",
    "version": 3
   },
   "file_extension": ".py",
   "mimetype": "text/x-python",
   "name": "python",
   "nbconvert_exporter": "python",
   "pygments_lexer": "ipython3",
   "version": "3.13.5"
  }
 },
 "nbformat": 4,
 "nbformat_minor": 5
}
