{
 "cells": [
  {
   "cell_type": "code",
   "execution_count": 3,
   "id": "e170861e",
   "metadata": {},
   "outputs": [],
   "source": [
    "from typing import TypedDict, NotRequired\n",
    "from langgraph.graph import StateGraph, START, END"
   ]
  },
  {
   "cell_type": "code",
   "execution_count": 4,
   "id": "20e0a852",
   "metadata": {},
   "outputs": [],
   "source": [
    "class AgentState(TypedDict):\n",
    "    number1: int\n",
    "    operation: str\n",
    "    number2: int\n",
    "    finalNumber: NotRequired[int]"
   ]
  },
  {
   "cell_type": "code",
   "execution_count": 5,
   "id": "008eb50c",
   "metadata": {},
   "outputs": [],
   "source": [
    "def adder(state: AgentState) -> AgentState:\n",
    "    \"\"\" \n",
    "    This node adds the 2 numbers\n",
    "    \"\"\"\n",
    "    \n",
    "    return {**state, \"finalNumber\": state[\"number1\"] + state[\"number2\"]}\n",
    "    "
   ]
  },
  {
   "cell_type": "code",
   "execution_count": 6,
   "id": "b271e2fa",
   "metadata": {},
   "outputs": [],
   "source": [
    "def subtracter(state: AgentState) -> AgentState:\n",
    "    \"\"\" \n",
    "    This node subtracts two numbers\n",
    "    \"\"\"\n",
    "    return {**state, 'finalNumber': state['number1'] - state['number2']}"
   ]
  },
  {
   "cell_type": "code",
   "execution_count": 7,
   "id": "5aba4c85",
   "metadata": {},
   "outputs": [],
   "source": [
    "def decide_next_node(state: AgentState) -> str:\n",
    "    \"\"\" \n",
    "    This node will decide the next node of the graph based on the operation.\n",
    "    \n",
    "    Args:\n",
    "        state (AgentState): The current state containing the operation to perform.\n",
    "        \n",
    "    Returns:\n",
    "        str: The name of the edge to take\n",
    "        \n",
    "    Raises:\n",
    "        ValueError: If the operation is not supported (not '+' or '-').\n",
    "    \"\"\"\n",
    "    \n",
    "    # Check if the operation is addition.\n",
    "    if state[\"operation\"] == \"+\":\n",
    "        return \"add_operation\"\n",
    "    # Check if the operation is subtraction.\n",
    "    elif state[\"operation\"] == \"-\":\n",
    "        return \"subtract_operation\"\n",
    "    else:\n",
    "        # Default case for unsupported operations.\n",
    "        raise ValueError(f\"Unsupported operation: {state['operation']}\")"
   ]
  },
  {
   "cell_type": "code",
   "execution_count": 8,
   "id": "abc061ad",
   "metadata": {},
   "outputs": [
    {
     "data": {
      "text/plain": [
       "<langgraph.graph.state.StateGraph at 0x7f8ca246ecf0>"
      ]
     },
     "execution_count": 8,
     "metadata": {},
     "output_type": "execute_result"
    }
   ],
   "source": [
    "graph = StateGraph(AgentState)\n",
    "\n",
    "graph.add_node(\"subtract_node\", subtracter)\n",
    "graph.add_node(\"add_node\", adder)\n",
    "graph.add_node(\"router\", lambda state: state)  # passthrough function\n",
    "\n",
    "graph.add_edge(START, \"router\")\n",
    "\n"
   ]
  },
  {
   "cell_type": "code",
   "execution_count": 9,
   "id": "dac8b6e8",
   "metadata": {},
   "outputs": [
    {
     "data": {
      "text/plain": [
       "<langgraph.graph.state.StateGraph at 0x7f8ca246ecf0>"
      ]
     },
     "execution_count": 9,
     "metadata": {},
     "output_type": "execute_result"
    }
   ],
   "source": [
    "# Add conditional edges from the router node.\n",
    "# This creates branching logic based on the decide_next_node function's return value.\n",
    "# The function will return either \"add_operation\" or \"subtract_operation\",\n",
    "# which will route to \"add_node\" or \"subtract_node\" respectively.\n",
    "graph.add_conditional_edges(\n",
    "    \"router\",                    # Source node that the conditional edges start from.\n",
    "    decide_next_node,           # Function that determines which edge to take.\n",
    "    {\n",
    "        \"add_operation\": \"add_node\",        # If function returns \"add_operation\", go to \"add_node\".\n",
    "        \"subtract_operation\": \"subtract_node\"  # If function returns \"subtract_operation\", go to \"subtract_node\".\n",
    "    }\n",
    ")"
   ]
  },
  {
   "cell_type": "code",
   "execution_count": 10,
   "id": "42902d7e",
   "metadata": {},
   "outputs": [
    {
     "data": {
      "text/plain": [
       "<langgraph.graph.state.StateGraph at 0x7f8ca246ecf0>"
      ]
     },
     "execution_count": 10,
     "metadata": {},
     "output_type": "execute_result"
    }
   ],
   "source": [
    "graph.add_edge(\"add_node\", END)\n",
    "graph.add_edge(\"subtract_node\", END)\n"
   ]
  },
  {
   "cell_type": "code",
   "execution_count": 12,
   "id": "d7bc10a3",
   "metadata": {},
   "outputs": [
    {
     "name": "stdout",
     "output_type": "stream",
     "text": [
      "{'number1': 2, 'operation': '+', 'number2': 3, 'finalNumber': 5}\n"
     ]
    }
   ],
   "source": [
    "app = graph.compile()\n",
    "\n",
    "result = app.invoke({'number1': 2, 'number2': 3, 'operation':\"+\"})  \n",
    "\n",
    "print(result)"
   ]
  }
 ],
 "metadata": {
  "kernelspec": {
   "display_name": ".venv",
   "language": "python",
   "name": "python3"
  },
  "language_info": {
   "codemirror_mode": {
    "name": "ipython",
    "version": 3
   },
   "file_extension": ".py",
   "mimetype": "text/x-python",
   "name": "python",
   "nbconvert_exporter": "python",
   "pygments_lexer": "ipython3",
   "version": "3.13.5"
  }
 },
 "nbformat": 4,
 "nbformat_minor": 5
}
